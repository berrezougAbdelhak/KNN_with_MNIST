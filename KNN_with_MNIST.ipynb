{
 "cells": [
  {
   "cell_type": "code",
   "execution_count": 1,
   "metadata": {},
   "outputs": [],
   "source": [
    "from sklearn.datasets  import fetch_openml\n",
    "mnist=fetch_openml(\"mnist_784\", version=1)\n"
   ]
  },
  {
   "cell_type": "code",
   "execution_count": 8,
   "metadata": {},
   "outputs": [
    {
     "name": "stdout",
     "output_type": "stream",
     "text": [
      "la taille du dataset originale :  (70000, 784)\n",
      "Les targets sont de taille :  (70000,)\n"
     ]
    }
   ],
   "source": [
    "#On vois que ce dataset contient 70K images de 784 valeurs entre 0 et 255 (28*28 pixels)\n",
    "print(\"la taille du dataset originale : \",mnist.data.shape)\n",
    "\n",
    "#Le vecteur d'annotation associé au dataset (entre 0 et 9 )\n",
    "print(\"Les targets sont de taille : \",mnist.target.shape)"
   ]
  },
  {
   "cell_type": "code",
   "execution_count": 10,
   "metadata": {},
   "outputs": [],
   "source": [
    "\n",
    "import numpy as np \n",
    "np.random.seed(0)\n",
    "\n",
    "#Vu que le dataset esty tres grand on va travailler avec un nombre plus petit de données \n",
    "sample=np.random.randint(70000,size=5000)\n",
    "\n",
    "data=mnist.data[sample]\n",
    "target=mnist.target[sample]"
   ]
  },
  {
   "cell_type": "code",
   "execution_count": 14,
   "metadata": {},
   "outputs": [
    {
     "data": {
      "text/plain": [
       "(1000, 784)"
      ]
     },
     "execution_count": 14,
     "metadata": {},
     "output_type": "execute_result"
    }
   ],
   "source": [
    "#Séparer training/testing set \n",
    "from sklearn.model_selection import train_test_split\n",
    "\n",
    "xtrain, xtest, ytrain , ytest=train_test_split(data,target,train_size=0.8)\n",
    "\n",
    "xtest.shape"
   ]
  }
 ],
 "metadata": {
  "kernelspec": {
   "display_name": "Python 3",
   "language": "python",
   "name": "python3"
  },
  "language_info": {
   "codemirror_mode": {
    "name": "ipython",
    "version": 3
   },
   "file_extension": ".py",
   "mimetype": "text/x-python",
   "name": "python",
   "nbconvert_exporter": "python",
   "pygments_lexer": "ipython3",
   "version": "3.8.5"
  }
 },
 "nbformat": 4,
 "nbformat_minor": 4
}
